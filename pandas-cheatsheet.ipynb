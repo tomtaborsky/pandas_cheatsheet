{
 "cells": [
  {
   "cell_type": "markdown",
   "metadata": {},
   "source": [
    "# 5 Minutes Pandas\n",
    "What this is:<br>This notebook serves as a Cheatsheet and starting point for your venture into using the Pandas library. \n",
    "<br>What this not is:<br>A complete Tutorial on how to Pandas.\n",
    "<br>Good luck and feel free to give me feedback. Use, manipulate and execute the code to get an understanding of what it does.\n",
    "<br>Sincerely yours, Tom."
   ]
  },
  {
   "cell_type": "markdown",
   "metadata": {},
   "source": [
    "## Content\n",
    "IMPORTANT: In some cases applied functions will manipulate the actual DataFrame and render other functions broken. In that case, re-run the cell where the DataFrames are built, then run the new function. Be aware that due to the random function used to build dfs, they might have new values.\n",
    "\n",
    "1. [meta-options](#meta-options)\n",
    "2. [Further resources](#Further-resources)<br><br>\n",
    "Start here: \n",
    "3. [Series](#Series)\n",
    "4. [Build your first DataFrame](#BUILD-A-DATAFRAME)\n",
    "5. [Show, Analyse, Sort a DF](#Show,-Analyse,-Sort-a-DF)\n",
    "6. [Printing](#Printing)\n",
    "7. [Selecting from a DF](#Selecting-from-a-DF)\n",
    "8. [Value assignment](#Value-assignment)\n",
    "9. [(Randomly) Splitting a DF](#Splitting-a-DF-randomly)\n",
    "10. [Boolean Indexing of a DF](#Boolean-Indexing-of-a-DF)\n",
    "11. [Column Manipulations](#Column-Manipulations)\n",
    "12. [Working with Missing Data](#Working-with-Missing-Data)\n",
    "13. [Mathematical Operations](#Mathematical-Operations)\n",
    "14. [Basic plotting](#Basic-plotting)"
   ]
  },
  {
   "cell_type": "code",
   "execution_count": null,
   "metadata": {},
   "outputs": [],
   "source": [
    "import pandas as pd\n",
    "import numpy as np\n",
    "print(pd.__version__)\n",
    "#internatl notebook functions overview\n",
    "#%magic\n",
    "#%quickref\n",
    "\n",
    "#quickhelp on any function\n",
    "#??pd.read_excel()"
   ]
  },
  {
   "cell_type": "markdown",
   "metadata": {},
   "source": [
    "##### meta-options\n",
    "(Skip this for now, use it for later)"
   ]
  },
  {
   "cell_type": "code",
   "execution_count": null,
   "metadata": {},
   "outputs": [],
   "source": [
    "# max # of rows displayed\n",
    "#pd.options.display.max_rows = 10\n",
    "#same effect: pd.set_option('display.max_columns', 10)\n",
    "#float display format\n",
    "#pd.options.display.float_format = '{:.1f}'.format\n"
   ]
  },
  {
   "cell_type": "markdown",
   "metadata": {},
   "source": [
    "### Further resources\n",
    "use this as an extended resource base, but skip for now"
   ]
  },
  {
   "cell_type": "markdown",
   "metadata": {},
   "source": [
    "1. applying functions to a df <strong>does not alter the df itself, it only returns an altered copy</strong> of the df <br> This can be done by passing the argument \"inplace\" = True to the function, thus a df CAN be changed in place)\n",
    "2. DataFrame reference: https://pandas.pydata.org/pandas-docs/stable/generated/pandas.DataFrame.html\n",
    "3. Tutorials: https://pandas.pydata.org/pandas-docs/stable/tutorials.html\n",
    "4. 10min to Pandas: http://pandas.pydata.org/pandas-docs/stable/10min.html#selection-by-label\n",
    "5. Pandas Cookbook: https://pandas.pydata.org/pandas-docs/stable/cookbook.html#cookbook\n",
    "5. Pandas Cookbook Tutorials: http://nbviewer.jupyter.org/github/jvns/pandas-cookbook/tree/v0.2/cookbook/\n",
    "6. Essential basic functionality http://pandas.pydata.org/pandas-docs/stable/basics.html#basics\n",
    "7. Indexing & Selecting: http://pandas.pydata.org/pandas-docs/stable/indexing.html#indexing\n",
    "8. Work with missing data: http://pandas.pydata.org/pandas-docs/stable/missing_data.html#missing-data\n",
    "9. Interpolation: https://pandas.pydata.org/pandas-docs/stable/generated/pandas.DataFrame.interpolate.html\n",
    "10. Group by: http://pandas.pydata.org/pandas-docs/stable/groupby.html\n",
    "11. Resampling: https://pandas.pydata.org/pandas-docs/stable/generated/pandas.DataFrame.resample.html\n",
    "12. Extra: datetime behaviour: https://docs.python.org/3/library/datetime.html#strftime-strptime-behavior"
   ]
  },
  {
   "cell_type": "markdown",
   "metadata": {},
   "source": [
    "## Series\n",
    "A DataFrame, short df, is basically a table of values (analog to Excel) with super fast functionalities to manipulate Big Data. It comes with columns & rows. The DataFrame object basically consists of concatenated Series objects. A Series is analog to a python list() object, where the Series additional contains Index Elements and a heading. A Series therefore is like a DataFrame with only 1 column."
   ]
  },
  {
   "cell_type": "code",
   "execution_count": null,
   "metadata": {},
   "outputs": [],
   "source": [
    "# SERIES needs to be given a list of values\n",
    "series = pd.Series()\n",
    "series1 = pd.Series([1,3,5,np.nan,6,8])\n",
    "series2 = pd.Series(2, index = list(range(4)), dtype='float32')\n",
    "print(\"Series 2\")\n",
    "print(series2)\n",
    "#Internal notebook function describing the pd.Series() object\n",
    "#??pd.Series()"
   ]
  },
  {
   "cell_type": "markdown",
   "metadata": {},
   "source": [
    "## DataFrame"
   ]
  },
  {
   "cell_type": "markdown",
   "metadata": {},
   "source": [
    "### build a DataFrame"
   ]
  },
  {
   "cell_type": "code",
   "execution_count": null,
   "metadata": {},
   "outputs": [],
   "source": [
    "# make an index\n",
    "#dates: create a DatetimeIndex, which is a list\n",
    "#start, periods\n",
    "dates = pd.date_range('20180701', periods = 6)\n",
    "#start, end, frequency\n",
    "dates2 = pd.date_range('20180701', \"20180901\", freq=\"3H\")\n",
    "print(\"dates\")\n",
    "print((dates))\n",
    "print((dates2))"
   ]
  },
  {
   "cell_type": "markdown",
   "metadata": {},
   "source": [
    "# BUILD A DATAFRAME"
   ]
  },
  {
   "cell_type": "code",
   "execution_count": null,
   "metadata": {},
   "outputs": [],
   "source": [
    "\n",
    "# from random values\n",
    "# build df with specified index & columns, random generated values via np.randn(rows, cols)\n",
    "a_string = \"ABCD\"\n",
    "df1 = pd.DataFrame(np.random.randn(6,4), index = dates, columns = list(a_string))\n",
    "print(\"\\nDATAFRAME 1\")\n",
    "print(df1)\n",
    "\n",
    "# from dictionary\n",
    "# keys become columns (=define # cols)\n",
    "df2 = pd.DataFrame({ 'A' : 1.,\n",
    "            'B' : pd.Timestamp('20130102'),\n",
    "            'C' : pd.Series(1,index=list(range(4)),dtype='float32'),\n",
    "            'D' : np.array([3] * 4,dtype='int32'),\n",
    "            'E' : pd.Categorical([\"test\",\"train\",\"test\",\"train\"]),\n",
    "            'F' : 'foo' })\n",
    "print(\"\\nDATAFRAME 2\")\n",
    "print(df2)"
   ]
  },
  {
   "cell_type": "markdown",
   "metadata": {},
   "source": [
    "#### resampling the frequency of a datetime-indexed DataFrame"
   ]
  },
  {
   "cell_type": "code",
   "execution_count": null,
   "metadata": {},
   "outputs": [],
   "source": [
    "df3 = df1.resample('2D', label='right', closed='right').mean()\n",
    "df3"
   ]
  },
  {
   "cell_type": "markdown",
   "metadata": {},
   "source": [
    "### Show, Analyse, Sort a DF"
   ]
  },
  {
   "cell_type": "code",
   "execution_count": null,
   "metadata": {},
   "outputs": [],
   "source": [
    "#displaying with pandas\n",
    "df1#will print the df with pandas formatting"
   ]
  },
  {
   "cell_type": "code",
   "execution_count": null,
   "metadata": {},
   "outputs": [],
   "source": [
    "df1 #won't print anything, because not the last line\n",
    "print(df1) #will print df with python formatting, because wrapped in print() function"
   ]
  },
  {
   "cell_type": "markdown",
   "metadata": {},
   "source": [
    "### Printing\n",
    "in the following: as described above, only the last statement will be printed. To see what the code actually does, either wrap the statement into a print() function or erase everything else behind.<br><br>IMPORTANT: In some cases applied functions will manipulate the actual DataFrame and render other functions broken. In that case, re-run the cell (above) where the DataFrames are built, then run the new function. Be aware that due to random function dfs might have new values."
   ]
  },
  {
   "cell_type": "code",
   "execution_count": null,
   "metadata": {},
   "outputs": [],
   "source": [
    "# METADATA; OVERVIEWS\n",
    "#get datatypes of columns\n",
    "df2.dtypes\n",
    "#view top / bottom rows # head(limit)\n",
    "df2.head()#df2.head(5)\n",
    "df2.tail()\n",
    "# view /return index, columns, values\n",
    "df2.index\n",
    "df2.columns\n",
    "df2.values\n",
    "\n",
    "# statistics overview\n",
    "df1.describe()\n",
    "# statistical facts, show sum of null values per column\n",
    "#df1.isna().sum()"
   ]
  },
  {
   "cell_type": "code",
   "execution_count": null,
   "metadata": {},
   "outputs": [],
   "source": [
    "# count of values in Series\n",
    "df2[\"E\"].value_counts()\n",
    "# count of not-null values\n",
    "df2[\"E\"].count()\n",
    "#view mean, with arg. axis: 0 = column, 1 = row\n",
    "df1.mean()\n",
    "df1.mean(1)"
   ]
  },
  {
   "cell_type": "code",
   "execution_count": null,
   "metadata": {},
   "outputs": [],
   "source": [
    "#transpose df\n",
    "df2.T\n",
    "\n",
    "# SORTING\n",
    "#sort df by index, axis = 0 ^= sort along column, 1 ^= sort along row\n",
    "df1.sort_index(axis=0, ascending=False)\n",
    "\n",
    "#sort whole df by value in a column\n",
    "df1.sort_values(\"C\")\n",
    "#sort only df column \n",
    "df1[\"C\"].sort_values()\n",
    "\n",
    "#group entries\n",
    "g = df2.groupby('E')\n",
    "g.get_group(name=\"train\")"
   ]
  },
  {
   "cell_type": "markdown",
   "metadata": {},
   "source": [
    "### Selecting from a DF"
   ]
  },
  {
   "cell_type": "code",
   "execution_count": null,
   "metadata": {},
   "outputs": [],
   "source": [
    "#over column\n",
    "df2[\"A\"]\n",
    "#over [], slices rows -> returns rows 0 until exclusive 3\n",
    "df1[:3]\n",
    "#combined\n",
    "df1[:3][\"A\"]\n",
    "#over date index\n",
    "df1['2018-07-02':'2018-07-05']\n",
    "\n",
    "#LOC, via LABLES\n",
    "#http://pandas.pydata.org/pandas-docs/stable/10min.html#selection-by-label\n",
    "#https://pandas.pydata.org/pandas-docs/version/0.23/generated/pandas.DataFrame.loc.html\n",
    "\n",
    "#return single row\n",
    "df1.loc[\"2018-07-01\"]\n",
    "#return single row, dimension reduction\n",
    "df1.loc[\"2018-07-01\", [\"A\", \"B\"]]\n",
    "#return scalar\n",
    "df1.loc[\"2018-07-01\", \"A\"]\n",
    "#over columns\n",
    "df1.loc[:,['A','B']]\n",
    "#over columns slicing certain rows\n",
    "df1.loc['2018-07-02':'2018-07-05',['A','B']]\n",
    "\n",
    "#ILOC, via POSITION\n",
    "#returns row\n",
    "df1.iloc[0]\n",
    "#returns col\n",
    "df1.iloc[:,[0]]\n",
    "#via integer slicing, similar to python [start:end-1:step]\n",
    "df1.iloc[0:3,0:2]\n",
    "#list of integer pos\n",
    "df1.iloc[[0,3],[2]]\n",
    "#explicit row slicing\n",
    "df1.iloc[1:3,:]\n",
    "#scalar\n",
    "df1.iloc[1,1]\n",
    "df1.iat[1,1] #faster"
   ]
  },
  {
   "cell_type": "markdown",
   "metadata": {},
   "source": [
    "### Value assignment"
   ]
  },
  {
   "cell_type": "code",
   "execution_count": null,
   "metadata": {},
   "outputs": [],
   "source": [
    "\n",
    "#adds a new column and sets values = \"meow\n",
    "df1[\"Z\"] = \"meow\"\n",
    "\n",
    "print(df1.head(2))\n",
    "#apply an element-wise function to the DataFrame\n",
    "df1[\"Z\"] = df1[\"Z\"].apply(lambda x: x.upper())\n",
    "\n",
    "#also works with custom functions\n",
    "def first_letter(x):\n",
    "    return x[0]\n",
    "df1[\"ZZ\"] = df1[\"Z\"].apply(lambda x: first_letter(x))\n",
    "print(df1.head(2))"
   ]
  },
  {
   "cell_type": "code",
   "execution_count": null,
   "metadata": {},
   "outputs": [],
   "source": [
    "#iterate over df\n",
    "for index, row in df1.iterrows():\n",
    "    #row element can be manipulated as a df\n",
    "    print(\"At index {} comes row with entry \\n{}\\n\".format(index, row))\n",
    "    print(\"At Column {} value is {}\\n\".format(row.index[0], row[\"A\"]))\n",
    "    break"
   ]
  },
  {
   "cell_type": "markdown",
   "metadata": {},
   "source": [
    "### Splitting a DF randomly\n",
    "more important for machine learning, not to understand basics"
   ]
  },
  {
   "cell_type": "code",
   "execution_count": 26,
   "metadata": {},
   "outputs": [
    {
     "name": "stdout",
     "output_type": "stream",
     "text": [
      "Length (=num rows) of original df: 600\n",
      "Length of 80% df: 474, equivalent to 79.0% of values\n"
     ]
    }
   ],
   "source": [
    "a_string = \"ABCD\"\n",
    "df_all = pd.DataFrame(np.random.randn(600,4),columns = list(a_string))\n",
    "\n",
    "np.random.seed(seed=1) #makes result reproducible\n",
    "#create array of rand values between [0, 1], filter by < 0.8 and save as a \"masked\" array with bool values\n",
    "\n",
    "mask_rand = np.random.rand(len(df_all))\n",
    "mask_80percent =  mask_rand < 0.8\n",
    "mask_80to90 = (mask_rand >= 0.8) & (mask_rand < 0.9)\n",
    "\n",
    "#contains 80% of the values\n",
    "df_80percent = df_all[mask_80percent]\n",
    "#subset of traindf\n",
    "df_90percent = df_all[mask_80to90]\n",
    "#choose other 20% of values, other than mask_80percent\n",
    "df_last20percent = df_all[~mask_80percent]\n",
    "\n",
    "print(\"Length (=num rows) of original df: {}\".format(len(df_all)))\n",
    "print(\"Length of 80% df: {}, equivalent to {}% of values\".format(len(df_80percent), \n",
    "                                                                 len(df_80percent)/len(df_all)*100))\n"
   ]
  },
  {
   "cell_type": "markdown",
   "metadata": {},
   "source": [
    "### Boolean Indexing of a DF"
   ]
  },
  {
   "cell_type": "code",
   "execution_count": null,
   "metadata": {},
   "outputs": [],
   "source": [
    "#set values NaN where certain criteria is met\n",
    "#single column\n",
    "df1[df1.A > 0]\n",
    "#entire df\n",
    "df1[df1 > 0]\n",
    "\n",
    "#FILTERING with .isin\n",
    "#copy\n",
    "df3 = df1.copy()\n",
    "#add values\n",
    "df3[\"E\"] = [\"one\", \"two\", \"one\", \"three\", \"four\", \"three\"]\n",
    "print(\"df before masking / filtering\")\n",
    "print(df3.head(5))\n",
    "#returns True in each position where condition is met\n",
    "#i.e. a \"mask\" of True/False Values instead of the real value\n",
    "\n",
    "\n",
    "#filter: returns real values where the criteria is met. Is two steps in one: \n",
    "#1. create mask with criteria; 2. lay mask over df\n",
    "df3[df3['E'].isin(['one','four'])]\n",
    "#same effect as the above\n",
    "mask = df3['E'].isin(['one','four'])\n",
    "#also possible:\n",
    "mask = (df3['E'] == \"one\") | (df3['E'] == \"four\")\n",
    "df3 = df3[mask]\n",
    "\n",
    "print(\"df after masking / filtering\")\n",
    "print(df3.head(5))\n"
   ]
  },
  {
   "cell_type": "code",
   "execution_count": null,
   "metadata": {},
   "outputs": [],
   "source": [
    "#if-then assignments\n",
    "#works with assigning to multiple cols\n",
    "#if value in a is >=A, assign value in column B value of -1\n",
    "df1.loc[df1.A >= 1,'B'] = -1\n",
    "\n",
    "#build a mask by bool criteria and fill value if criteria is met\n",
    "df1.where(df1[\"A\"] >= 1, \"meow\")\n",
    "\n",
    "#Splitting a df by condition\n",
    "#returns a df with filtered values\n",
    "dfhigh = df1[df1.A > 1];\n",
    "dflow = df1[df1.A <= 1]; \n",
    "\n",
    "#returns a mask with True/False values\n",
    "#dfhigh = df1[\"A\"] > 1"
   ]
  },
  {
   "cell_type": "markdown",
   "metadata": {},
   "source": [
    "### Column Manipulations"
   ]
  },
  {
   "cell_type": "code",
   "execution_count": null,
   "metadata": {},
   "outputs": [],
   "source": [
    "#create list of the columns\n",
    "cols = df2.columns.tolist()\n",
    "#cols = list(df2.columns) same effect\n",
    "\n",
    "#reverse order of columns in a df\n",
    "cols = cols[::-1]\n",
    "df2 = df2[cols]\n",
    "df2\n",
    "# or re-order with only certain columns\n",
    "#df = df[['c','a','b']]\n",
    "\n",
    "#drop columns\n",
    "df3 = df2.drop(columns=[\"A\",\"C\"])\n",
    "#same, but different label technique and in place\n",
    "#df.drop(axis=1, labels=[\"A\", \"C\"], inplace=True)\n",
    "df3\n",
    "#drop a column\n",
    "df4 = df2.drop(columns=\"A\")\n",
    "df4"
   ]
  },
  {
   "cell_type": "code",
   "execution_count": null,
   "metadata": {},
   "outputs": [],
   "source": [
    "#setting/resetting the index\n",
    "df1 = df1.set_index(\"B\")\n",
    "#same, but in place: df1.set_index(\"B\", inplace=True)\n",
    "print(df1)\n",
    "df1 = df1.reset_index(drop=False)\n",
    "print(df1)"
   ]
  },
  {
   "cell_type": "code",
   "execution_count": null,
   "metadata": {},
   "outputs": [],
   "source": [
    "#reindexing allows add/change/delete of indices\n",
    "df3 = df1.reindex(index=dates[0:4], columns=list(df1.columns) + ['E'])\n",
    "print(df3.head(1))"
   ]
  },
  {
   "cell_type": "code",
   "execution_count": null,
   "metadata": {},
   "outputs": [],
   "source": [
    "#will work only once, because then column \"B\" will be dropped and you get a KeyError\n",
    "df1 = df1.set_index(\"B\")\n",
    "print(df1)\n",
    "df1 = df1.reset_index(drop=True)\n",
    "print(df1)"
   ]
  },
  {
   "cell_type": "markdown",
   "metadata": {},
   "source": [
    "### Working with Missing Data"
   ]
  },
  {
   "cell_type": "code",
   "execution_count": null,
   "metadata": {},
   "outputs": [],
   "source": [
    "#set values = 1 in column \"E\" between the dates dates[0] and [1]\n",
    "df1.loc[dates[0]:dates[1],'E'] = 1\n",
    "df1.loc[dates[0]:dates[1],'A'] = np.NAN\n",
    "\n",
    "#drop NaN; how: {any, all} any= if one value NaN drop; all= if entire row NaN drop\n",
    "#https://pandas.pydata.org/pandas-docs/stable/generated/pandas.DataFrame.dropna.html\n",
    "df1.dropna(how=\"any\")\n",
    "\n",
    "#fill NaN, all = 5\n",
    "df1.fillna(value=5)\n",
    "#fill NaN, specifying for each col\n",
    "values = {'A': 0, 'B': 1, 'C': 2, 'E': 3}\n",
    "df1.fillna(value=values)\n",
    "#return boolean mask where NaN\n",
    "#REMEMBER: above actions will only return an altered copy and NOT work in-place on the df. \n",
    "#Therefore the output will contain isna() = True boxes.\n",
    "df1.isna()"
   ]
  },
  {
   "cell_type": "markdown",
   "metadata": {},
   "source": [
    "### Mathematical Operations"
   ]
  },
  {
   "cell_type": "code",
   "execution_count": null,
   "metadata": {},
   "outputs": [],
   "source": [
    "#df.add()\n",
    "#df.sub()\n",
    "#df.mul()\n",
    "#build series, assign dates as index, shift the index by two (insert 2 new rows)\n",
    "s1 = pd.Series([1,3,5,np.nan,6,8], index=dates).shift(2)\n",
    "\n",
    "#substract series s from df; axis=index substracts over each row (dimension needs to fit)\n",
    "df1.sub(s1, axis='index')\n",
    "#apply function (again: only returns the result, does not apply in-situ)\n",
    "df1.apply(np.cumsum)"
   ]
  },
  {
   "cell_type": "markdown",
   "metadata": {},
   "source": [
    "### Basic plotting"
   ]
  },
  {
   "cell_type": "code",
   "execution_count": null,
   "metadata": {
    "scrolled": true
   },
   "outputs": [],
   "source": [
    "a_string = \"ABCD\"\n",
    "dates = pd.date_range('20180701', periods = 10)\n",
    "df1 = pd.DataFrame(np.random.randn(10,4), index = dates, columns = list(a_string))\n",
    "#df1[\"A\"].plot()\n",
    "#df1.plot()\n",
    "df1[\"A\"].hist(bins=5, figsize=(40,20))"
   ]
  },
  {
   "cell_type": "markdown",
   "metadata": {},
   "source": [
    "Licensed under the Apache License, Version 2.0 (the \"License\"); you may not use this file except in compliance with the License. You may obtain a copy of the License at\n",
    "http://www.apache.org/licenses/LICENSE-2.0\n",
    "\n",
    "Unless required by applicable law or agreed to in writing, software distributed under the License is distributed on an \"AS IS\" BASIS, WITHOUT WARRANTIES OR CONDITIONS OF ANY KIND, either express or implied. See the License for the specific language governing permissions and limitations under the License."
   ]
  },
  {
   "cell_type": "code",
   "execution_count": null,
   "metadata": {},
   "outputs": [],
   "source": []
  }
 ],
 "metadata": {
  "kernelspec": {
   "display_name": "Python 3",
   "language": "python",
   "name": "python3"
  },
  "language_info": {
   "codemirror_mode": {
    "name": "ipython",
    "version": 3
   },
   "file_extension": ".py",
   "mimetype": "text/x-python",
   "name": "python",
   "nbconvert_exporter": "python",
   "pygments_lexer": "ipython3",
   "version": "3.6.4"
  }
 },
 "nbformat": 4,
 "nbformat_minor": 2
}
